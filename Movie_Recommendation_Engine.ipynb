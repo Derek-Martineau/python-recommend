{
  "cells": [
    {
      "cell_type": "code",
      "execution_count": null,
      "metadata": {
        "id": "70-EMiO5GE9m"
      },
      "outputs": [],
      "source": [
        "#import the libraries\n",
        "import pandas as pd\n",
        "import numpy as np\n",
        "from sklearn.metrics.pairwise import cosine_similarity\n",
        "from sklearn.feature_extraction.text import CountVectorizer"
      ]
    },
    {
      "cell_type": "code",
      "execution_count": null,
      "metadata": {
        "id": "Imrhqh9XHPmB"
      },
      "outputs": [],
      "source": [
        "#load the data\n",
        "df=pd.read_csv(\"/content/Data/movie_data.csv\")"
      ]
    },
    {
      "cell_type": "code",
      "execution_count": null,
      "metadata": {
        "colab": {
          "base_uri": "https://localhost:8080/",
          "height": 361
        },
        "id": "2OTmsEYaO5lV",
        "outputId": "9f03bce1-c020-45bd-eaaa-38c17f7196d7"
      },
      "outputs": [
        {
          "data": {
            "text/html": [
              "\n",
              "  <div id=\"df-6c9d692b-72e6-4128-a81e-901f3c5f0ed2\">\n",
              "    <div class=\"colab-df-container\">\n",
              "      <div>\n",
              "<style scoped>\n",
              "    .dataframe tbody tr th:only-of-type {\n",
              "        vertical-align: middle;\n",
              "    }\n",
              "\n",
              "    .dataframe tbody tr th {\n",
              "        vertical-align: top;\n",
              "    }\n",
              "\n",
              "    .dataframe thead th {\n",
              "        text-align: right;\n",
              "    }\n",
              "</style>\n",
              "<table border=\"1\" class=\"dataframe\">\n",
              "  <thead>\n",
              "    <tr style=\"text-align: right;\">\n",
              "      <th></th>\n",
              "      <th>Rank</th>\n",
              "      <th>Title</th>\n",
              "      <th>Genre</th>\n",
              "      <th>Description</th>\n",
              "      <th>Director</th>\n",
              "      <th>Actors</th>\n",
              "      <th>Year</th>\n",
              "      <th>Runtime (Minutes)</th>\n",
              "      <th>Rating</th>\n",
              "      <th>Votes</th>\n",
              "      <th>Revenue (Millions)</th>\n",
              "      <th>Metascore</th>\n",
              "      <th>Movie_id</th>\n",
              "    </tr>\n",
              "  </thead>\n",
              "  <tbody>\n",
              "    <tr>\n",
              "      <th>0</th>\n",
              "      <td>1</td>\n",
              "      <td>Guardians of the Galaxy</td>\n",
              "      <td>Action,Adventure,Sci-Fi</td>\n",
              "      <td>A group of intergalactic criminals are forced ...</td>\n",
              "      <td>James Gunn</td>\n",
              "      <td>Chris Pratt, Vin Diesel, Bradley Cooper, Zoe S...</td>\n",
              "      <td>2014</td>\n",
              "      <td>121</td>\n",
              "      <td>8.1</td>\n",
              "      <td>757074</td>\n",
              "      <td>333.13</td>\n",
              "      <td>76.0</td>\n",
              "      <td>0</td>\n",
              "    </tr>\n",
              "    <tr>\n",
              "      <th>1</th>\n",
              "      <td>2</td>\n",
              "      <td>Prometheus</td>\n",
              "      <td>Adventure,Mystery,Sci-Fi</td>\n",
              "      <td>Following clues to the origin of mankind, a te...</td>\n",
              "      <td>Ridley Scott</td>\n",
              "      <td>Noomi Rapace, Logan Marshall-Green, Michael Fa...</td>\n",
              "      <td>2012</td>\n",
              "      <td>124</td>\n",
              "      <td>7.0</td>\n",
              "      <td>485820</td>\n",
              "      <td>126.46</td>\n",
              "      <td>65.0</td>\n",
              "      <td>1</td>\n",
              "    </tr>\n",
              "    <tr>\n",
              "      <th>2</th>\n",
              "      <td>3</td>\n",
              "      <td>Split</td>\n",
              "      <td>Horror,Thriller</td>\n",
              "      <td>Three girls are kidnapped by a man with a diag...</td>\n",
              "      <td>M. Night Shyamalan</td>\n",
              "      <td>James McAvoy, Anya Taylor-Joy, Haley Lu Richar...</td>\n",
              "      <td>2016</td>\n",
              "      <td>117</td>\n",
              "      <td>7.3</td>\n",
              "      <td>157606</td>\n",
              "      <td>138.12</td>\n",
              "      <td>62.0</td>\n",
              "      <td>2</td>\n",
              "    </tr>\n",
              "  </tbody>\n",
              "</table>\n",
              "</div>\n",
              "      <button class=\"colab-df-convert\" onclick=\"convertToInteractive('df-6c9d692b-72e6-4128-a81e-901f3c5f0ed2')\"\n",
              "              title=\"Convert this dataframe to an interactive table.\"\n",
              "              style=\"display:none;\">\n",
              "        \n",
              "  <svg xmlns=\"http://www.w3.org/2000/svg\" height=\"24px\"viewBox=\"0 0 24 24\"\n",
              "       width=\"24px\">\n",
              "    <path d=\"M0 0h24v24H0V0z\" fill=\"none\"/>\n",
              "    <path d=\"M18.56 5.44l.94 2.06.94-2.06 2.06-.94-2.06-.94-.94-2.06-.94 2.06-2.06.94zm-11 1L8.5 8.5l.94-2.06 2.06-.94-2.06-.94L8.5 2.5l-.94 2.06-2.06.94zm10 10l.94 2.06.94-2.06 2.06-.94-2.06-.94-.94-2.06-.94 2.06-2.06.94z\"/><path d=\"M17.41 7.96l-1.37-1.37c-.4-.4-.92-.59-1.43-.59-.52 0-1.04.2-1.43.59L10.3 9.45l-7.72 7.72c-.78.78-.78 2.05 0 2.83L4 21.41c.39.39.9.59 1.41.59.51 0 1.02-.2 1.41-.59l7.78-7.78 2.81-2.81c.8-.78.8-2.07 0-2.86zM5.41 20L4 18.59l7.72-7.72 1.47 1.35L5.41 20z\"/>\n",
              "  </svg>\n",
              "      </button>\n",
              "      \n",
              "  <style>\n",
              "    .colab-df-container {\n",
              "      display:flex;\n",
              "      flex-wrap:wrap;\n",
              "      gap: 12px;\n",
              "    }\n",
              "\n",
              "    .colab-df-convert {\n",
              "      background-color: #E8F0FE;\n",
              "      border: none;\n",
              "      border-radius: 50%;\n",
              "      cursor: pointer;\n",
              "      display: none;\n",
              "      fill: #1967D2;\n",
              "      height: 32px;\n",
              "      padding: 0 0 0 0;\n",
              "      width: 32px;\n",
              "    }\n",
              "\n",
              "    .colab-df-convert:hover {\n",
              "      background-color: #E2EBFA;\n",
              "      box-shadow: 0px 1px 2px rgba(60, 64, 67, 0.3), 0px 1px 3px 1px rgba(60, 64, 67, 0.15);\n",
              "      fill: #174EA6;\n",
              "    }\n",
              "\n",
              "    [theme=dark] .colab-df-convert {\n",
              "      background-color: #3B4455;\n",
              "      fill: #D2E3FC;\n",
              "    }\n",
              "\n",
              "    [theme=dark] .colab-df-convert:hover {\n",
              "      background-color: #434B5C;\n",
              "      box-shadow: 0px 1px 3px 1px rgba(0, 0, 0, 0.15);\n",
              "      filter: drop-shadow(0px 1px 2px rgba(0, 0, 0, 0.3));\n",
              "      fill: #FFFFFF;\n",
              "    }\n",
              "  </style>\n",
              "\n",
              "      <script>\n",
              "        const buttonEl =\n",
              "          document.querySelector('#df-6c9d692b-72e6-4128-a81e-901f3c5f0ed2 button.colab-df-convert');\n",
              "        buttonEl.style.display =\n",
              "          google.colab.kernel.accessAllowed ? 'block' : 'none';\n",
              "\n",
              "        async function convertToInteractive(key) {\n",
              "          const element = document.querySelector('#df-6c9d692b-72e6-4128-a81e-901f3c5f0ed2');\n",
              "          const dataTable =\n",
              "            await google.colab.kernel.invokeFunction('convertToInteractive',\n",
              "                                                     [key], {});\n",
              "          if (!dataTable) return;\n",
              "\n",
              "          const docLinkHtml = 'Like what you see? Visit the ' +\n",
              "            '<a target=\"_blank\" href=https://colab.research.google.com/notebooks/data_table.ipynb>data table notebook</a>'\n",
              "            + ' to learn more about interactive tables.';\n",
              "          element.innerHTML = '';\n",
              "          dataTable['output_type'] = 'display_data';\n",
              "          await google.colab.output.renderOutput(dataTable, element);\n",
              "          const docLink = document.createElement('div');\n",
              "          docLink.innerHTML = docLinkHtml;\n",
              "          element.appendChild(docLink);\n",
              "        }\n",
              "      </script>\n",
              "    </div>\n",
              "  </div>\n",
              "  "
            ],
            "text/plain": [
              "   Rank                    Title                     Genre  \\\n",
              "0     1  Guardians of the Galaxy   Action,Adventure,Sci-Fi   \n",
              "1     2               Prometheus  Adventure,Mystery,Sci-Fi   \n",
              "2     3                    Split           Horror,Thriller   \n",
              "\n",
              "                                         Description            Director  \\\n",
              "0  A group of intergalactic criminals are forced ...          James Gunn   \n",
              "1  Following clues to the origin of mankind, a te...        Ridley Scott   \n",
              "2  Three girls are kidnapped by a man with a diag...  M. Night Shyamalan   \n",
              "\n",
              "                                              Actors  Year  Runtime (Minutes)  \\\n",
              "0  Chris Pratt, Vin Diesel, Bradley Cooper, Zoe S...  2014                121   \n",
              "1  Noomi Rapace, Logan Marshall-Green, Michael Fa...  2012                124   \n",
              "2  James McAvoy, Anya Taylor-Joy, Haley Lu Richar...  2016                117   \n",
              "\n",
              "   Rating   Votes  Revenue (Millions)  Metascore  Movie_id  \n",
              "0     8.1  757074              333.13       76.0         0  \n",
              "1     7.0  485820              126.46       65.0         1  \n",
              "2     7.3  157606              138.12       62.0         2  "
            ]
          },
          "execution_count": 4,
          "metadata": {},
          "output_type": "execute_result"
        }
      ],
      "source": [
        "#create movie id column\n",
        "df['Movie_id'] = range(0,1000)\n",
        "df.head(3)"
      ]
    },
    {
      "cell_type": "code",
      "execution_count": null,
      "metadata": {
        "colab": {
          "base_uri": "https://localhost:8080/"
        },
        "id": "b9khfCOOIWL9",
        "outputId": "060f82d0-2503-4c27-9536-f73932b7124d"
      },
      "outputs": [
        {
          "data": {
            "text/plain": [
              "(1000, 13)"
            ]
          },
          "execution_count": 5,
          "metadata": {},
          "output_type": "execute_result"
        }
      ],
      "source": [
        "#get a count of number of movies in dataset and number of columns\n",
        "df.shape"
      ]
    },
    {
      "cell_type": "code",
      "execution_count": null,
      "metadata": {
        "id": "HwMP_S1aK-hj"
      },
      "outputs": [],
      "source": [
        "#list of important columns\n",
        "columns = ['Actors', 'Director', 'Genre', 'Title']"
      ]
    },
    {
      "cell_type": "code",
      "execution_count": null,
      "metadata": {
        "colab": {
          "base_uri": "https://localhost:8080/",
          "height": 143
        },
        "id": "fBXX2naOLOsM",
        "outputId": "8282b0cd-b3ed-49a1-e23a-368573760972"
      },
      "outputs": [
        {
          "data": {
            "text/html": [
              "\n",
              "  <div id=\"df-8cfcfde0-5c9d-481f-8ec8-ced88716211c\">\n",
              "    <div class=\"colab-df-container\">\n",
              "      <div>\n",
              "<style scoped>\n",
              "    .dataframe tbody tr th:only-of-type {\n",
              "        vertical-align: middle;\n",
              "    }\n",
              "\n",
              "    .dataframe tbody tr th {\n",
              "        vertical-align: top;\n",
              "    }\n",
              "\n",
              "    .dataframe thead th {\n",
              "        text-align: right;\n",
              "    }\n",
              "</style>\n",
              "<table border=\"1\" class=\"dataframe\">\n",
              "  <thead>\n",
              "    <tr style=\"text-align: right;\">\n",
              "      <th></th>\n",
              "      <th>Actors</th>\n",
              "      <th>Director</th>\n",
              "      <th>Genre</th>\n",
              "      <th>Title</th>\n",
              "    </tr>\n",
              "  </thead>\n",
              "  <tbody>\n",
              "    <tr>\n",
              "      <th>0</th>\n",
              "      <td>Chris Pratt, Vin Diesel, Bradley Cooper, Zoe S...</td>\n",
              "      <td>James Gunn</td>\n",
              "      <td>Action,Adventure,Sci-Fi</td>\n",
              "      <td>Guardians of the Galaxy</td>\n",
              "    </tr>\n",
              "    <tr>\n",
              "      <th>1</th>\n",
              "      <td>Noomi Rapace, Logan Marshall-Green, Michael Fa...</td>\n",
              "      <td>Ridley Scott</td>\n",
              "      <td>Adventure,Mystery,Sci-Fi</td>\n",
              "      <td>Prometheus</td>\n",
              "    </tr>\n",
              "    <tr>\n",
              "      <th>2</th>\n",
              "      <td>James McAvoy, Anya Taylor-Joy, Haley Lu Richar...</td>\n",
              "      <td>M. Night Shyamalan</td>\n",
              "      <td>Horror,Thriller</td>\n",
              "      <td>Split</td>\n",
              "    </tr>\n",
              "  </tbody>\n",
              "</table>\n",
              "</div>\n",
              "      <button class=\"colab-df-convert\" onclick=\"convertToInteractive('df-8cfcfde0-5c9d-481f-8ec8-ced88716211c')\"\n",
              "              title=\"Convert this dataframe to an interactive table.\"\n",
              "              style=\"display:none;\">\n",
              "        \n",
              "  <svg xmlns=\"http://www.w3.org/2000/svg\" height=\"24px\"viewBox=\"0 0 24 24\"\n",
              "       width=\"24px\">\n",
              "    <path d=\"M0 0h24v24H0V0z\" fill=\"none\"/>\n",
              "    <path d=\"M18.56 5.44l.94 2.06.94-2.06 2.06-.94-2.06-.94-.94-2.06-.94 2.06-2.06.94zm-11 1L8.5 8.5l.94-2.06 2.06-.94-2.06-.94L8.5 2.5l-.94 2.06-2.06.94zm10 10l.94 2.06.94-2.06 2.06-.94-2.06-.94-.94-2.06-.94 2.06-2.06.94z\"/><path d=\"M17.41 7.96l-1.37-1.37c-.4-.4-.92-.59-1.43-.59-.52 0-1.04.2-1.43.59L10.3 9.45l-7.72 7.72c-.78.78-.78 2.05 0 2.83L4 21.41c.39.39.9.59 1.41.59.51 0 1.02-.2 1.41-.59l7.78-7.78 2.81-2.81c.8-.78.8-2.07 0-2.86zM5.41 20L4 18.59l7.72-7.72 1.47 1.35L5.41 20z\"/>\n",
              "  </svg>\n",
              "      </button>\n",
              "      \n",
              "  <style>\n",
              "    .colab-df-container {\n",
              "      display:flex;\n",
              "      flex-wrap:wrap;\n",
              "      gap: 12px;\n",
              "    }\n",
              "\n",
              "    .colab-df-convert {\n",
              "      background-color: #E8F0FE;\n",
              "      border: none;\n",
              "      border-radius: 50%;\n",
              "      cursor: pointer;\n",
              "      display: none;\n",
              "      fill: #1967D2;\n",
              "      height: 32px;\n",
              "      padding: 0 0 0 0;\n",
              "      width: 32px;\n",
              "    }\n",
              "\n",
              "    .colab-df-convert:hover {\n",
              "      background-color: #E2EBFA;\n",
              "      box-shadow: 0px 1px 2px rgba(60, 64, 67, 0.3), 0px 1px 3px 1px rgba(60, 64, 67, 0.15);\n",
              "      fill: #174EA6;\n",
              "    }\n",
              "\n",
              "    [theme=dark] .colab-df-convert {\n",
              "      background-color: #3B4455;\n",
              "      fill: #D2E3FC;\n",
              "    }\n",
              "\n",
              "    [theme=dark] .colab-df-convert:hover {\n",
              "      background-color: #434B5C;\n",
              "      box-shadow: 0px 1px 3px 1px rgba(0, 0, 0, 0.15);\n",
              "      filter: drop-shadow(0px 1px 2px rgba(0, 0, 0, 0.3));\n",
              "      fill: #FFFFFF;\n",
              "    }\n",
              "  </style>\n",
              "\n",
              "      <script>\n",
              "        const buttonEl =\n",
              "          document.querySelector('#df-8cfcfde0-5c9d-481f-8ec8-ced88716211c button.colab-df-convert');\n",
              "        buttonEl.style.display =\n",
              "          google.colab.kernel.accessAllowed ? 'block' : 'none';\n",
              "\n",
              "        async function convertToInteractive(key) {\n",
              "          const element = document.querySelector('#df-8cfcfde0-5c9d-481f-8ec8-ced88716211c');\n",
              "          const dataTable =\n",
              "            await google.colab.kernel.invokeFunction('convertToInteractive',\n",
              "                                                     [key], {});\n",
              "          if (!dataTable) return;\n",
              "\n",
              "          const docLinkHtml = 'Like what you see? Visit the ' +\n",
              "            '<a target=\"_blank\" href=https://colab.research.google.com/notebooks/data_table.ipynb>data table notebook</a>'\n",
              "            + ' to learn more about interactive tables.';\n",
              "          element.innerHTML = '';\n",
              "          dataTable['output_type'] = 'display_data';\n",
              "          await google.colab.output.renderOutput(dataTable, element);\n",
              "          const docLink = document.createElement('div');\n",
              "          docLink.innerHTML = docLinkHtml;\n",
              "          element.appendChild(docLink);\n",
              "        }\n",
              "      </script>\n",
              "    </div>\n",
              "  </div>\n",
              "  "
            ],
            "text/plain": [
              "                                              Actors            Director  \\\n",
              "0  Chris Pratt, Vin Diesel, Bradley Cooper, Zoe S...          James Gunn   \n",
              "1  Noomi Rapace, Logan Marshall-Green, Michael Fa...        Ridley Scott   \n",
              "2  James McAvoy, Anya Taylor-Joy, Haley Lu Richar...  M. Night Shyamalan   \n",
              "\n",
              "                      Genre                    Title  \n",
              "0   Action,Adventure,Sci-Fi  Guardians of the Galaxy  \n",
              "1  Adventure,Mystery,Sci-Fi               Prometheus  \n",
              "2           Horror,Thriller                    Split  "
            ]
          },
          "execution_count": 7,
          "metadata": {},
          "output_type": "execute_result"
        }
      ],
      "source": [
        "#show the data\n",
        "df[columns].head(3)"
      ]
    },
    {
      "cell_type": "code",
      "execution_count": null,
      "metadata": {
        "colab": {
          "base_uri": "https://localhost:8080/"
        },
        "id": "U9lWr3eLLXGR",
        "outputId": "71eb76ce-8c6a-4ba9-9f2b-d1863313a2ed"
      },
      "outputs": [
        {
          "data": {
            "text/plain": [
              "False"
            ]
          },
          "execution_count": 8,
          "metadata": {},
          "output_type": "execute_result"
        }
      ],
      "source": [
        "#check for any missing values in the important columns \n",
        "df[columns].isnull().values.any()"
      ]
    },
    {
      "cell_type": "code",
      "execution_count": null,
      "metadata": {
        "id": "3lN9LqxBLnLf"
      },
      "outputs": [],
      "source": [
        "#create a function to combine the values of the important columns into one string\n",
        "def get_important_features(data):\n",
        "  important_features = []\n",
        "  for i in range(0, data.shape[0]):\n",
        "    important_features.append(data['Actors'][i]+' '+data['Director'][i]+' '+data['Genre'][i]+' '+data['Title'][i])\n",
        "\n",
        "  return important_features"
      ]
    },
    {
      "cell_type": "code",
      "execution_count": null,
      "metadata": {
        "colab": {
          "base_uri": "https://localhost:8080/",
          "height": 520
        },
        "id": "UmKyTnKcMsOe",
        "outputId": "fa3b60cd-d3fe-4739-aad3-8f18d8ae2253"
      },
      "outputs": [
        {
          "data": {
            "text/html": [
              "\n",
              "  <div id=\"df-4178bc8a-1e5c-46f5-a14f-22cd6345324d\">\n",
              "    <div class=\"colab-df-container\">\n",
              "      <div>\n",
              "<style scoped>\n",
              "    .dataframe tbody tr th:only-of-type {\n",
              "        vertical-align: middle;\n",
              "    }\n",
              "\n",
              "    .dataframe tbody tr th {\n",
              "        vertical-align: top;\n",
              "    }\n",
              "\n",
              "    .dataframe thead th {\n",
              "        text-align: right;\n",
              "    }\n",
              "</style>\n",
              "<table border=\"1\" class=\"dataframe\">\n",
              "  <thead>\n",
              "    <tr style=\"text-align: right;\">\n",
              "      <th></th>\n",
              "      <th>Rank</th>\n",
              "      <th>Title</th>\n",
              "      <th>Genre</th>\n",
              "      <th>Description</th>\n",
              "      <th>Director</th>\n",
              "      <th>Actors</th>\n",
              "      <th>Year</th>\n",
              "      <th>Runtime (Minutes)</th>\n",
              "      <th>Rating</th>\n",
              "      <th>Votes</th>\n",
              "      <th>Revenue (Millions)</th>\n",
              "      <th>Metascore</th>\n",
              "      <th>Movie_id</th>\n",
              "      <th>important_features</th>\n",
              "    </tr>\n",
              "  </thead>\n",
              "  <tbody>\n",
              "    <tr>\n",
              "      <th>0</th>\n",
              "      <td>1</td>\n",
              "      <td>Guardians of the Galaxy</td>\n",
              "      <td>Action,Adventure,Sci-Fi</td>\n",
              "      <td>A group of intergalactic criminals are forced ...</td>\n",
              "      <td>James Gunn</td>\n",
              "      <td>Chris Pratt, Vin Diesel, Bradley Cooper, Zoe S...</td>\n",
              "      <td>2014</td>\n",
              "      <td>121</td>\n",
              "      <td>8.1</td>\n",
              "      <td>757074</td>\n",
              "      <td>333.13</td>\n",
              "      <td>76.0</td>\n",
              "      <td>0</td>\n",
              "      <td>Chris Pratt, Vin Diesel, Bradley Cooper, Zoe S...</td>\n",
              "    </tr>\n",
              "    <tr>\n",
              "      <th>1</th>\n",
              "      <td>2</td>\n",
              "      <td>Prometheus</td>\n",
              "      <td>Adventure,Mystery,Sci-Fi</td>\n",
              "      <td>Following clues to the origin of mankind, a te...</td>\n",
              "      <td>Ridley Scott</td>\n",
              "      <td>Noomi Rapace, Logan Marshall-Green, Michael Fa...</td>\n",
              "      <td>2012</td>\n",
              "      <td>124</td>\n",
              "      <td>7.0</td>\n",
              "      <td>485820</td>\n",
              "      <td>126.46</td>\n",
              "      <td>65.0</td>\n",
              "      <td>1</td>\n",
              "      <td>Noomi Rapace, Logan Marshall-Green, Michael Fa...</td>\n",
              "    </tr>\n",
              "    <tr>\n",
              "      <th>2</th>\n",
              "      <td>3</td>\n",
              "      <td>Split</td>\n",
              "      <td>Horror,Thriller</td>\n",
              "      <td>Three girls are kidnapped by a man with a diag...</td>\n",
              "      <td>M. Night Shyamalan</td>\n",
              "      <td>James McAvoy, Anya Taylor-Joy, Haley Lu Richar...</td>\n",
              "      <td>2016</td>\n",
              "      <td>117</td>\n",
              "      <td>7.3</td>\n",
              "      <td>157606</td>\n",
              "      <td>138.12</td>\n",
              "      <td>62.0</td>\n",
              "      <td>2</td>\n",
              "      <td>James McAvoy, Anya Taylor-Joy, Haley Lu Richar...</td>\n",
              "    </tr>\n",
              "  </tbody>\n",
              "</table>\n",
              "</div>\n",
              "      <button class=\"colab-df-convert\" onclick=\"convertToInteractive('df-4178bc8a-1e5c-46f5-a14f-22cd6345324d')\"\n",
              "              title=\"Convert this dataframe to an interactive table.\"\n",
              "              style=\"display:none;\">\n",
              "        \n",
              "  <svg xmlns=\"http://www.w3.org/2000/svg\" height=\"24px\"viewBox=\"0 0 24 24\"\n",
              "       width=\"24px\">\n",
              "    <path d=\"M0 0h24v24H0V0z\" fill=\"none\"/>\n",
              "    <path d=\"M18.56 5.44l.94 2.06.94-2.06 2.06-.94-2.06-.94-.94-2.06-.94 2.06-2.06.94zm-11 1L8.5 8.5l.94-2.06 2.06-.94-2.06-.94L8.5 2.5l-.94 2.06-2.06.94zm10 10l.94 2.06.94-2.06 2.06-.94-2.06-.94-.94-2.06-.94 2.06-2.06.94z\"/><path d=\"M17.41 7.96l-1.37-1.37c-.4-.4-.92-.59-1.43-.59-.52 0-1.04.2-1.43.59L10.3 9.45l-7.72 7.72c-.78.78-.78 2.05 0 2.83L4 21.41c.39.39.9.59 1.41.59.51 0 1.02-.2 1.41-.59l7.78-7.78 2.81-2.81c.8-.78.8-2.07 0-2.86zM5.41 20L4 18.59l7.72-7.72 1.47 1.35L5.41 20z\"/>\n",
              "  </svg>\n",
              "      </button>\n",
              "      \n",
              "  <style>\n",
              "    .colab-df-container {\n",
              "      display:flex;\n",
              "      flex-wrap:wrap;\n",
              "      gap: 12px;\n",
              "    }\n",
              "\n",
              "    .colab-df-convert {\n",
              "      background-color: #E8F0FE;\n",
              "      border: none;\n",
              "      border-radius: 50%;\n",
              "      cursor: pointer;\n",
              "      display: none;\n",
              "      fill: #1967D2;\n",
              "      height: 32px;\n",
              "      padding: 0 0 0 0;\n",
              "      width: 32px;\n",
              "    }\n",
              "\n",
              "    .colab-df-convert:hover {\n",
              "      background-color: #E2EBFA;\n",
              "      box-shadow: 0px 1px 2px rgba(60, 64, 67, 0.3), 0px 1px 3px 1px rgba(60, 64, 67, 0.15);\n",
              "      fill: #174EA6;\n",
              "    }\n",
              "\n",
              "    [theme=dark] .colab-df-convert {\n",
              "      background-color: #3B4455;\n",
              "      fill: #D2E3FC;\n",
              "    }\n",
              "\n",
              "    [theme=dark] .colab-df-convert:hover {\n",
              "      background-color: #434B5C;\n",
              "      box-shadow: 0px 1px 3px 1px rgba(0, 0, 0, 0.15);\n",
              "      filter: drop-shadow(0px 1px 2px rgba(0, 0, 0, 0.3));\n",
              "      fill: #FFFFFF;\n",
              "    }\n",
              "  </style>\n",
              "\n",
              "      <script>\n",
              "        const buttonEl =\n",
              "          document.querySelector('#df-4178bc8a-1e5c-46f5-a14f-22cd6345324d button.colab-df-convert');\n",
              "        buttonEl.style.display =\n",
              "          google.colab.kernel.accessAllowed ? 'block' : 'none';\n",
              "\n",
              "        async function convertToInteractive(key) {\n",
              "          const element = document.querySelector('#df-4178bc8a-1e5c-46f5-a14f-22cd6345324d');\n",
              "          const dataTable =\n",
              "            await google.colab.kernel.invokeFunction('convertToInteractive',\n",
              "                                                     [key], {});\n",
              "          if (!dataTable) return;\n",
              "\n",
              "          const docLinkHtml = 'Like what you see? Visit the ' +\n",
              "            '<a target=\"_blank\" href=https://colab.research.google.com/notebooks/data_table.ipynb>data table notebook</a>'\n",
              "            + ' to learn more about interactive tables.';\n",
              "          element.innerHTML = '';\n",
              "          dataTable['output_type'] = 'display_data';\n",
              "          await google.colab.output.renderOutput(dataTable, element);\n",
              "          const docLink = document.createElement('div');\n",
              "          docLink.innerHTML = docLinkHtml;\n",
              "          element.appendChild(docLink);\n",
              "        }\n",
              "      </script>\n",
              "    </div>\n",
              "  </div>\n",
              "  "
            ],
            "text/plain": [
              "   Rank                    Title                     Genre  \\\n",
              "0     1  Guardians of the Galaxy   Action,Adventure,Sci-Fi   \n",
              "1     2               Prometheus  Adventure,Mystery,Sci-Fi   \n",
              "2     3                    Split           Horror,Thriller   \n",
              "\n",
              "                                         Description            Director  \\\n",
              "0  A group of intergalactic criminals are forced ...          James Gunn   \n",
              "1  Following clues to the origin of mankind, a te...        Ridley Scott   \n",
              "2  Three girls are kidnapped by a man with a diag...  M. Night Shyamalan   \n",
              "\n",
              "                                              Actors  Year  Runtime (Minutes)  \\\n",
              "0  Chris Pratt, Vin Diesel, Bradley Cooper, Zoe S...  2014                121   \n",
              "1  Noomi Rapace, Logan Marshall-Green, Michael Fa...  2012                124   \n",
              "2  James McAvoy, Anya Taylor-Joy, Haley Lu Richar...  2016                117   \n",
              "\n",
              "   Rating   Votes  Revenue (Millions)  Metascore  Movie_id  \\\n",
              "0     8.1  757074              333.13       76.0         0   \n",
              "1     7.0  485820              126.46       65.0         1   \n",
              "2     7.3  157606              138.12       62.0         2   \n",
              "\n",
              "                                  important_features  \n",
              "0  Chris Pratt, Vin Diesel, Bradley Cooper, Zoe S...  \n",
              "1  Noomi Rapace, Logan Marshall-Green, Michael Fa...  \n",
              "2  James McAvoy, Anya Taylor-Joy, Haley Lu Richar...  "
            ]
          },
          "execution_count": 10,
          "metadata": {},
          "output_type": "execute_result"
        }
      ],
      "source": [
        "#create a column to hold the combined strings\n",
        "df['important_features'] = get_important_features(df)\n",
        "\n",
        "#show the data\n",
        "df.head(3)"
      ]
    },
    {
      "cell_type": "code",
      "execution_count": null,
      "metadata": {
        "id": "qVEjzzpaM9rV"
      },
      "outputs": [],
      "source": [
        "#convert the text to a matrix of token counts\n",
        "cm = CountVectorizer().fit_transform(df['important_features'])"
      ]
    },
    {
      "cell_type": "code",
      "execution_count": null,
      "metadata": {
        "colab": {
          "base_uri": "https://localhost:8080/"
        },
        "id": "DKjXJRm1NPv0",
        "outputId": "b423897b-a7df-48dd-b3d6-6470672a401d"
      },
      "outputs": [
        {
          "name": "stdout",
          "output_type": "stream",
          "text": [
            "[[1.         0.1767767  0.06085806 ... 0.0571662  0.06537205 0.        ]\n",
            " [0.1767767  1.         0.         ... 0.         0.06933752 0.        ]\n",
            " [0.06085806 0.         1.         ... 0.         0.         0.        ]\n",
            " ...\n",
            " [0.0571662  0.         0.         ... 1.         0.06726728 0.        ]\n",
            " [0.06537205 0.06933752 0.         ... 0.06726728 1.         0.07161149]\n",
            " [0.         0.         0.         ... 0.         0.07161149 1.        ]]\n"
          ]
        }
      ],
      "source": [
        "#get the cosine similarity matrix from the count matrix\n",
        "cs = cosine_similarity(cm)\n",
        "#print the cosine similarity matrix\n",
        "print(cs)"
      ]
    },
    {
      "cell_type": "code",
      "execution_count": null,
      "metadata": {
        "colab": {
          "base_uri": "https://localhost:8080/"
        },
        "id": "PuT24yJpNhhW",
        "outputId": "a62c71d0-db3c-489a-f31a-052bc102ba09"
      },
      "outputs": [
        {
          "data": {
            "text/plain": [
              "(1000, 1000)"
            ]
          },
          "execution_count": 13,
          "metadata": {},
          "output_type": "execute_result"
        }
      ],
      "source": [
        "#get the shape of the cosine similarity matrix\n",
        "cs.shape"
      ]
    },
    {
      "cell_type": "code",
      "execution_count": null,
      "metadata": {
        "id": "tf46hJ4pNxIq"
      },
      "outputs": [],
      "source": [
        "#get the title of the movie that the user likes\n",
        "title = 'The Dark Knight'\n",
        "\n",
        "#find the movies id\n",
        "movie_id = df[df.Title == title]['Movie_id'].values[0]"
      ]
    },
    {
      "cell_type": "code",
      "execution_count": null,
      "metadata": {
        "id": "q6IfT70ePKq3"
      },
      "outputs": [],
      "source": [
        "#create a list of enums for the similarity score\n",
        "scores = list(enumerate(cs[movie_id]))"
      ]
    },
    {
      "cell_type": "code",
      "execution_count": null,
      "metadata": {
        "id": "jqF76tbBPoIe"
      },
      "outputs": [],
      "source": [
        "#sort the list\n",
        "sorted_scores = sorted(scores, key = lambda x:x[1], reverse = True)\n",
        "sorted_scores = sorted_scores[1:]"
      ]
    },
    {
      "cell_type": "code",
      "execution_count": null,
      "metadata": {
        "colab": {
          "base_uri": "https://localhost:8080/"
        },
        "id": "lfPCcCTJQP-z",
        "outputId": "d15d6115-3afd-4c00-dd15-d998dce5824c"
      },
      "outputs": [
        {
          "name": "stdout",
          "output_type": "stream",
          "text": [
            "[(64, 0.5), (124, 0.5), (655, 0.3638034375544995), (759, 0.32274861218395134), (424, 0.3125), (852, 0.30316953129541624), (223, 0.2727723627949905), (89, 0.2672612419124244), (347, 0.2672612419124244), (482, 0.2672612419124244), (511, 0.2672612419124244), (856, 0.2672612419124244), (391, 0.2581988897471611), (521, 0.2581988897471611), (663, 0.2581988897471611), (738, 0.2581988897471611), (70, 0.25), (142, 0.25), (601, 0.25), (65, 0.24253562503633297), (107, 0.24253562503633297), (516, 0.24253562503633297), (700, 0.24253562503633297), (938, 0.24253562503633297), (438, 0.23570226039551587), (535, 0.23570226039551587), (821, 0.23570226039551587), (604, 0.22941573387056174), (62, 0.22360679774997896), (566, 0.22360679774997896), (135, 0.2182178902359924), (308, 0.20851441405707477), (59, 0.20801257358446093), (890, 0.20801257358446093), (26, 0.2004459314343183), (192, 0.2004459314343183), (240, 0.2004459314343183), (293, 0.2004459314343183), (329, 0.2004459314343183), (372, 0.2004459314343183), (503, 0.2004459314343183), (517, 0.2004459314343183), (789, 0.2004459314343183), (850, 0.2004459314343183), (920, 0.2004459314343183), (947, 0.2004459314343183), (176, 0.2), (257, 0.2), (613, 0.19611613513818404), (29, 0.19364916731037082), (31, 0.19364916731037082), (36, 0.19364916731037082), (53, 0.19364916731037082), (99, 0.19364916731037082), (153, 0.19364916731037082), (298, 0.19364916731037082), (341, 0.19364916731037082), (453, 0.19364916731037082), (536, 0.19364916731037082), (592, 0.19364916731037082), (600, 0.19364916731037082), (627, 0.19364916731037082), (668, 0.19364916731037082), (771, 0.19364916731037082), (796, 0.19364916731037082), (805, 0.19364916731037082), (815, 0.19364916731037082), (904, 0.19364916731037082), (80, 0.1875), (95, 0.1875), (168, 0.1875), (190, 0.1875), (300, 0.1875), (307, 0.1875), (404, 0.1875), (469, 0.1875), (574, 0.1875), (576, 0.1875), (615, 0.1875), (704, 0.1875), (724, 0.1875), (775, 0.1875), (838, 0.1875), (957, 0.1875), (88, 0.18190171877724973), (214, 0.18190171877724973), (246, 0.18190171877724973), (310, 0.18190171877724973), (491, 0.18190171877724973), (525, 0.18190171877724973), (628, 0.18190171877724973), (762, 0.18190171877724973), (798, 0.18190171877724973), (917, 0.18190171877724973), (234, 0.1767766952966369), (506, 0.1767766952966369), (564, 0.1767766952966369), (674, 0.1767766952966369), (708, 0.1767766952966369), (918, 0.1767766952966369), (990, 0.1767766952966369), (43, 0.1720618004029213), (111, 0.1720618004029213), (158, 0.1720618004029213), (434, 0.1720618004029213), (460, 0.1720618004029213), (710, 0.1720618004029213), (893, 0.1720618004029213), (921, 0.1720618004029213), (952, 0.1720618004029213), (114, 0.16770509831248423), (978, 0.16770509831248423), (209, 0.1636634176769943), (260, 0.1636634176769943), (510, 0.1636634176769943), (558, 0.1636634176769943), (679, 0.1636634176769943), (739, 0.1599005372667078), (259, 0.1563858105428061), (767, 0.15309310892394865), (313, 0.14708710135363803), (863, 0.14433756729740646), (148, 0.1386750490563073), (317, 0.1386750490563073), (350, 0.1386750490563073), (377, 0.1386750490563073), (419, 0.1386750490563073), (421, 0.1386750490563073), (437, 0.1386750490563073), (637, 0.1386750490563073), (659, 0.1386750490563073), (692, 0.1386750490563073), (816, 0.1386750490563073), (849, 0.1386750490563073), (932, 0.1386750490563073), (9, 0.1336306209562122), (49, 0.1336306209562122), (71, 0.1336306209562122), (73, 0.1336306209562122), (90, 0.1336306209562122), (92, 0.1336306209562122), (100, 0.1336306209562122), (134, 0.1336306209562122), (149, 0.1336306209562122), (170, 0.1336306209562122), (188, 0.1336306209562122), (194, 0.1336306209562122), (218, 0.1336306209562122), (248, 0.1336306209562122), (288, 0.1336306209562122), (295, 0.1336306209562122), (312, 0.1336306209562122), (322, 0.1336306209562122), (352, 0.1336306209562122), (370, 0.1336306209562122), (373, 0.1336306209562122), (375, 0.1336306209562122), (390, 0.1336306209562122), (392, 0.1336306209562122), (400, 0.1336306209562122), (413, 0.1336306209562122), (416, 0.1336306209562122), (420, 0.1336306209562122), (435, 0.1336306209562122), (444, 0.1336306209562122), (452, 0.1336306209562122), (459, 0.1336306209562122), (466, 0.1336306209562122), (488, 0.1336306209562122), (522, 0.1336306209562122), (524, 0.1336306209562122), (554, 0.1336306209562122), (587, 0.1336306209562122), (611, 0.1336306209562122), (620, 0.1336306209562122), (654, 0.1336306209562122), (666, 0.1336306209562122), (684, 0.1336306209562122), (718, 0.1336306209562122), (750, 0.1336306209562122), (763, 0.1336306209562122), (786, 0.1336306209562122), (801, 0.1336306209562122), (836, 0.1336306209562122), (907, 0.1336306209562122), (945, 0.1336306209562122), (946, 0.1336306209562122), (951, 0.1336306209562122), (968, 0.1336306209562122), (14, 0.12909944487358055), (19, 0.12909944487358055), (21, 0.12909944487358055), (46, 0.12909944487358055), (69, 0.12909944487358055), (84, 0.12909944487358055), (93, 0.12909944487358055), (117, 0.12909944487358055), (137, 0.12909944487358055), (147, 0.12909944487358055), (161, 0.12909944487358055), (179, 0.12909944487358055), (210, 0.12909944487358055), (212, 0.12909944487358055), (213, 0.12909944487358055), (226, 0.12909944487358055), (232, 0.12909944487358055), (237, 0.12909944487358055), (239, 0.12909944487358055), (277, 0.12909944487358055), (301, 0.12909944487358055), (319, 0.12909944487358055), (324, 0.12909944487358055), (331, 0.12909944487358055), (334, 0.12909944487358055), (340, 0.12909944487358055), (369, 0.12909944487358055), (376, 0.12909944487358055), (379, 0.12909944487358055), (385, 0.12909944487358055), (402, 0.12909944487358055), (415, 0.12909944487358055), (456, 0.12909944487358055), (463, 0.12909944487358055), (470, 0.12909944487358055), (479, 0.12909944487358055), (493, 0.12909944487358055), (526, 0.12909944487358055), (538, 0.12909944487358055), (557, 0.12909944487358055), (567, 0.12909944487358055), (569, 0.12909944487358055), (572, 0.12909944487358055), (621, 0.12909944487358055), (651, 0.12909944487358055), (665, 0.12909944487358055), (670, 0.12909944487358055), (671, 0.12909944487358055), (676, 0.12909944487358055), (693, 0.12909944487358055), (702, 0.12909944487358055), (707, 0.12909944487358055), (709, 0.12909944487358055), (727, 0.12909944487358055), (728, 0.12909944487358055), (735, 0.12909944487358055), (752, 0.12909944487358055), (755, 0.12909944487358055), (782, 0.12909944487358055), (810, 0.12909944487358055), (823, 0.12909944487358055), (832, 0.12909944487358055), (855, 0.12909944487358055), (857, 0.12909944487358055), (880, 0.12909944487358055), (892, 0.12909944487358055), (897, 0.12909944487358055), (914, 0.12909944487358055), (929, 0.12909944487358055), (949, 0.12909944487358055), (958, 0.12909944487358055), (5, 0.125), (22, 0.125), (32, 0.125), (38, 0.125), (76, 0.125), (83, 0.125), (97, 0.125), (102, 0.125), (104, 0.125), (125, 0.125), (129, 0.125), (131, 0.125), (196, 0.125), (198, 0.125), (199, 0.125), (205, 0.125), (219, 0.125), (231, 0.125), (249, 0.125), (272, 0.125), (276, 0.125), (281, 0.125), (283, 0.125), (294, 0.125), (297, 0.125), (305, 0.125), (315, 0.125), (342, 0.125), (345, 0.125), (368, 0.125), (387, 0.125), (405, 0.125), (406, 0.125), (414, 0.125), (427, 0.125), (436, 0.125), (475, 0.125), (481, 0.125), (498, 0.125), (502, 0.125), (527, 0.125), (528, 0.125), (529, 0.125), (537, 0.125), (545, 0.125), (552, 0.125), (553, 0.125), (579, 0.125), (581, 0.125), (596, 0.125), (612, 0.125), (644, 0.125), (658, 0.125), (660, 0.125), (661, 0.125), (672, 0.125), (677, 0.125), (685, 0.125), (697, 0.125), (705, 0.125), (737, 0.125), (758, 0.125), (774, 0.125), (791, 0.125), (794, 0.125), (847, 0.125), (853, 0.125), (886, 0.125), (887, 0.125), (901, 0.125), (927, 0.125), (959, 0.125), (960, 0.125), (969, 0.125), (979, 0.125), (8, 0.12126781251816648), (105, 0.12126781251816648), (154, 0.12126781251816648), (197, 0.12126781251816648), (224, 0.12126781251816648), (233, 0.12126781251816648), (235, 0.12126781251816648), (238, 0.12126781251816648), (286, 0.12126781251816648), (338, 0.12126781251816648), (357, 0.12126781251816648), (367, 0.12126781251816648), (388, 0.12126781251816648), (396, 0.12126781251816648), (505, 0.12126781251816648), (550, 0.12126781251816648), (575, 0.12126781251816648), (626, 0.12126781251816648), (633, 0.12126781251816648), (645, 0.12126781251816648), (741, 0.12126781251816648), (779, 0.12126781251816648), (799, 0.12126781251816648), (807, 0.12126781251816648), (879, 0.12126781251816648), (916, 0.12126781251816648), (941, 0.12126781251816648), (962, 0.12126781251816648), (967, 0.12126781251816648), (976, 0.12126781251816648), (982, 0.12126781251816648), (992, 0.12126781251816648), (995, 0.12126781251816648), (997, 0.12126781251816648), (0, 0.11785113019775793), (61, 0.11785113019775793), (82, 0.11785113019775793), (126, 0.11785113019775793), (132, 0.11785113019775793), (146, 0.11785113019775793), (163, 0.11785113019775793), (171, 0.11785113019775793), (253, 0.11785113019775793), (265, 0.11785113019775793), (290, 0.11785113019775793), (302, 0.11785113019775793), (316, 0.11785113019775793), (325, 0.11785113019775793), (371, 0.11785113019775793), (384, 0.11785113019775793), (395, 0.11785113019775793), (423, 0.11785113019775793), (447, 0.11785113019775793), (494, 0.11785113019775793), (539, 0.11785113019775793), (568, 0.11785113019775793), (590, 0.11785113019775793), (617, 0.11785113019775793), (640, 0.11785113019775793), (773, 0.11785113019775793), (827, 0.11785113019775793), (837, 0.11785113019775793), (864, 0.11785113019775793), (867, 0.11785113019775793), (939, 0.11785113019775793), (34, 0.11470786693528087), (50, 0.11470786693528087), (86, 0.11470786693528087), (110, 0.11470786693528087), (136, 0.11470786693528087), (195, 0.11470786693528087), (216, 0.11470786693528087), (320, 0.11470786693528087), (366, 0.11470786693528087), (425, 0.11470786693528087), (429, 0.11470786693528087), (465, 0.11470786693528087), (560, 0.11470786693528087), (609, 0.11470786693528087), (772, 0.11470786693528087), (809, 0.11470786693528087), (906, 0.11470786693528087), (925, 0.11470786693528087), (961, 0.11470786693528087), (45, 0.11180339887498948), (75, 0.11180339887498948), (78, 0.11180339887498948), (426, 0.11180339887498948), (473, 0.11180339887498948), (476, 0.11180339887498948), (500, 0.11180339887498948), (518, 0.11180339887498948), (546, 0.11180339887498948), (662, 0.11180339887498948), (683, 0.11180339887498948), (822, 0.11180339887498948), (953, 0.11180339887498948), (264, 0.1091089451179962), (408, 0.1091089451179962), (578, 0.1091089451179962), (680, 0.1091089451179962), (803, 0.1091089451179962), (843, 0.1091089451179962), (935, 0.1091089451179962), (327, 0.10660035817780521), (650, 0.10660035817780521), (806, 0.10660035817780521), (911, 0.10660035817780521), (950, 0.10660035817780521), (314, 0.10425720702853739), (619, 0.10425720702853739), (632, 0.10425720702853739), (244, 0.10206207261596577), (629, 0.10206207261596577), (757, 0.07537783614444091), (41, 0.07216878364870323), (68, 0.07216878364870323), (133, 0.07216878364870323), (143, 0.07216878364870323), (430, 0.07216878364870323), (457, 0.07216878364870323), (656, 0.07216878364870323), (926, 0.07216878364870323), (933, 0.07216878364870323), (18, 0.06933752452815364), (44, 0.06933752452815364), (72, 0.06933752452815364), (152, 0.06933752452815364), (185, 0.06933752452815364), (207, 0.06933752452815364), (225, 0.06933752452815364), (251, 0.06933752452815364), (255, 0.06933752452815364), (284, 0.06933752452815364), (351, 0.06933752452815364), (361, 0.06933752452815364), (365, 0.06933752452815364), (381, 0.06933752452815364), (410, 0.06933752452815364), (441, 0.06933752452815364), (462, 0.06933752452815364), (501, 0.06933752452815364), (544, 0.06933752452815364), (549, 0.06933752452815364), (586, 0.06933752452815364), (591, 0.06933752452815364), (605, 0.06933752452815364), (606, 0.06933752452815364), (608, 0.06933752452815364), (622, 0.06933752452815364), (624, 0.06933752452815364), (631, 0.06933752452815364), (646, 0.06933752452815364), (664, 0.06933752452815364), (678, 0.06933752452815364), (686, 0.06933752452815364), (730, 0.06933752452815364), (740, 0.06933752452815364), (769, 0.06933752452815364), (842, 0.06933752452815364), (844, 0.06933752452815364), (845, 0.06933752452815364), (866, 0.06933752452815364), (877, 0.06933752452815364), (909, 0.06933752452815364), (937, 0.06933752452815364), (964, 0.06933752452815364), (30, 0.0668153104781061), (47, 0.0668153104781061), (52, 0.0668153104781061), (55, 0.0668153104781061), (66, 0.0668153104781061), (79, 0.0668153104781061), (81, 0.0668153104781061), (87, 0.0668153104781061), (91, 0.0668153104781061), (101, 0.0668153104781061), (103, 0.0668153104781061), (106, 0.0668153104781061), (108, 0.0668153104781061), (113, 0.0668153104781061), (123, 0.0668153104781061), (127, 0.0668153104781061), (144, 0.0668153104781061), (165, 0.0668153104781061), (169, 0.0668153104781061), (175, 0.0668153104781061), (189, 0.0668153104781061), (191, 0.0668153104781061), (204, 0.0668153104781061), (228, 0.0668153104781061), (236, 0.0668153104781061), (256, 0.0668153104781061), (261, 0.0668153104781061), (263, 0.0668153104781061), (270, 0.0668153104781061), (275, 0.0668153104781061), (285, 0.0668153104781061), (382, 0.0668153104781061), (386, 0.0668153104781061), (399, 0.0668153104781061), (401, 0.0668153104781061), (417, 0.0668153104781061), (443, 0.0668153104781061), (446, 0.0668153104781061), (448, 0.0668153104781061), (449, 0.0668153104781061), (451, 0.0668153104781061), (478, 0.0668153104781061), (483, 0.0668153104781061), (486, 0.0668153104781061), (492, 0.0668153104781061), (499, 0.0668153104781061), (515, 0.0668153104781061), (534, 0.0668153104781061), (548, 0.0668153104781061), (551, 0.0668153104781061), (599, 0.0668153104781061), (623, 0.0668153104781061), (634, 0.0668153104781061), (638, 0.0668153104781061), (642, 0.0668153104781061), (643, 0.0668153104781061), (648, 0.0668153104781061), (675, 0.0668153104781061), (699, 0.0668153104781061), (703, 0.0668153104781061), (729, 0.0668153104781061), (734, 0.0668153104781061), (756, 0.0668153104781061), (765, 0.0668153104781061), (777, 0.0668153104781061), (802, 0.0668153104781061), (824, 0.0668153104781061), (825, 0.0668153104781061), (828, 0.0668153104781061), (834, 0.0668153104781061), (839, 0.0668153104781061), (841, 0.0668153104781061), (851, 0.0668153104781061), (859, 0.0668153104781061), (865, 0.0668153104781061), (873, 0.0668153104781061), (882, 0.0668153104781061), (885, 0.0668153104781061), (896, 0.0668153104781061), (902, 0.0668153104781061), (930, 0.0668153104781061), (956, 0.0668153104781061), (971, 0.0668153104781061), (981, 0.0668153104781061), (987, 0.0668153104781061), (989, 0.0668153104781061), (4, 0.06454972243679027), (11, 0.06454972243679027), (16, 0.06454972243679027), (17, 0.06454972243679027), (20, 0.06454972243679027), (23, 0.06454972243679027), (33, 0.06454972243679027), (56, 0.06454972243679027), (57, 0.06454972243679027), (58, 0.06454972243679027), (77, 0.06454972243679027), (140, 0.06454972243679027), (150, 0.06454972243679027), (159, 0.06454972243679027), (164, 0.06454972243679027), (172, 0.06454972243679027), (173, 0.06454972243679027), (178, 0.06454972243679027), (182, 0.06454972243679027), (202, 0.06454972243679027), (206, 0.06454972243679027), (211, 0.06454972243679027), (217, 0.06454972243679027), (227, 0.06454972243679027), (229, 0.06454972243679027), (245, 0.06454972243679027), (247, 0.06454972243679027), (250, 0.06454972243679027), (254, 0.06454972243679027), (303, 0.06454972243679027), (318, 0.06454972243679027), (321, 0.06454972243679027), (328, 0.06454972243679027), (335, 0.06454972243679027), (344, 0.06454972243679027), (353, 0.06454972243679027), (355, 0.06454972243679027), (356, 0.06454972243679027), (359, 0.06454972243679027), (455, 0.06454972243679027), (468, 0.06454972243679027), (471, 0.06454972243679027), (472, 0.06454972243679027), (484, 0.06454972243679027), (485, 0.06454972243679027), (487, 0.06454972243679027), (509, 0.06454972243679027), (512, 0.06454972243679027), (513, 0.06454972243679027), (530, 0.06454972243679027), (540, 0.06454972243679027), (543, 0.06454972243679027), (573, 0.06454972243679027), (577, 0.06454972243679027), (580, 0.06454972243679027), (584, 0.06454972243679027), (597, 0.06454972243679027), (598, 0.06454972243679027), (610, 0.06454972243679027), (618, 0.06454972243679027), (625, 0.06454972243679027), (641, 0.06454972243679027), (649, 0.06454972243679027), (669, 0.06454972243679027), (682, 0.06454972243679027), (687, 0.06454972243679027), (691, 0.06454972243679027), (694, 0.06454972243679027), (713, 0.06454972243679027), (717, 0.06454972243679027), (720, 0.06454972243679027), (721, 0.06454972243679027), (736, 0.06454972243679027), (743, 0.06454972243679027), (753, 0.06454972243679027), (754, 0.06454972243679027), (760, 0.06454972243679027), (766, 0.06454972243679027), (768, 0.06454972243679027), (780, 0.06454972243679027), (787, 0.06454972243679027), (808, 0.06454972243679027), (817, 0.06454972243679027), (826, 0.06454972243679027), (833, 0.06454972243679027), (860, 0.06454972243679027), (884, 0.06454972243679027), (895, 0.06454972243679027), (898, 0.06454972243679027), (908, 0.06454972243679027), (922, 0.06454972243679027), (923, 0.06454972243679027), (931, 0.06454972243679027), (944, 0.06454972243679027), (955, 0.06454972243679027), (965, 0.06454972243679027), (1, 0.0625), (12, 0.0625), (39, 0.0625), (42, 0.0625), (51, 0.0625), (98, 0.0625), (109, 0.0625), (116, 0.0625), (130, 0.0625), (157, 0.0625), (167, 0.0625), (184, 0.0625), (187, 0.0625), (193, 0.0625), (201, 0.0625), (220, 0.0625), (221, 0.0625), (230, 0.0625), (262, 0.0625), (280, 0.0625), (287, 0.0625), (309, 0.0625), (323, 0.0625), (332, 0.0625), (333, 0.0625), (358, 0.0625), (374, 0.0625), (383, 0.0625), (389, 0.0625), (432, 0.0625), (454, 0.0625), (461, 0.0625), (480, 0.0625), (490, 0.0625), (514, 0.0625), (523, 0.0625), (532, 0.0625), (533, 0.0625), (542, 0.0625), (555, 0.0625), (570, 0.0625), (585, 0.0625), (593, 0.0625), (603, 0.0625), (607, 0.0625), (630, 0.0625), (673, 0.0625), (695, 0.0625), (725, 0.0625), (733, 0.0625), (747, 0.0625), (764, 0.0625), (770, 0.0625), (781, 0.0625), (819, 0.0625), (820, 0.0625), (835, 0.0625), (840, 0.0625), (854, 0.0625), (858, 0.0625), (861, 0.0625), (869, 0.0625), (872, 0.0625), (912, 0.0625), (924, 0.0625), (934, 0.0625), (936, 0.0625), (940, 0.0625), (954, 0.0625), (972, 0.0625), (974, 0.0625), (980, 0.0625), (993, 0.0625), (6, 0.06063390625908324), (15, 0.06063390625908324), (24, 0.06063390625908324), (37, 0.06063390625908324), (48, 0.06063390625908324), (85, 0.06063390625908324), (96, 0.06063390625908324), (112, 0.06063390625908324), (151, 0.06063390625908324), (166, 0.06063390625908324), (200, 0.06063390625908324), (203, 0.06063390625908324), (215, 0.06063390625908324), (267, 0.06063390625908324), (268, 0.06063390625908324), (271, 0.06063390625908324), (273, 0.06063390625908324), (311, 0.06063390625908324), (326, 0.06063390625908324), (336, 0.06063390625908324), (337, 0.06063390625908324), (362, 0.06063390625908324), (378, 0.06063390625908324), (433, 0.06063390625908324), (450, 0.06063390625908324), (495, 0.06063390625908324), (496, 0.06063390625908324), (504, 0.06063390625908324), (519, 0.06063390625908324), (657, 0.06063390625908324), (689, 0.06063390625908324), (690, 0.06063390625908324), (698, 0.06063390625908324), (706, 0.06063390625908324), (711, 0.06063390625908324), (712, 0.06063390625908324), (714, 0.06063390625908324), (732, 0.06063390625908324), (744, 0.06063390625908324), (785, 0.06063390625908324), (793, 0.06063390625908324), (870, 0.06063390625908324), (878, 0.06063390625908324), (900, 0.06063390625908324), (919, 0.06063390625908324), (963, 0.06063390625908324), (67, 0.05892556509887897), (155, 0.05892556509887897), (181, 0.05892556509887897), (243, 0.05892556509887897), (279, 0.05892556509887897), (440, 0.05892556509887897), (474, 0.05892556509887897), (556, 0.05892556509887897), (595, 0.05892556509887897), (696, 0.05892556509887897), (761, 0.05892556509887897), (830, 0.05892556509887897), (871, 0.05892556509887897), (875, 0.05892556509887897), (881, 0.05892556509887897), (894, 0.05892556509887897), (903, 0.05892556509887897), (905, 0.05892556509887897), (915, 0.05892556509887897), (948, 0.05892556509887897), (975, 0.05892556509887897), (35, 0.057353933467640436), (60, 0.057353933467640436), (120, 0.057353933467640436), (156, 0.057353933467640436), (162, 0.057353933467640436), (177, 0.057353933467640436), (186, 0.057353933467640436), (306, 0.057353933467640436), (507, 0.057353933467640436), (681, 0.057353933467640436), (742, 0.057353933467640436), (889, 0.057353933467640436), (63, 0.05590169943749474), (118, 0.05590169943749474), (252, 0.05590169943749474), (299, 0.05590169943749474), (418, 0.05590169943749474), (422, 0.05590169943749474), (583, 0.05590169943749474), (784, 0.05590169943749474), (874, 0.05590169943749474), (910, 0.05590169943749474), (991, 0.05590169943749474), (94, 0.0545544725589981), (145, 0.0545544725589981), (602, 0.0545544725589981), (862, 0.053300179088902604), (614, 0.05212860351426869), (380, 0.051031036307982884), (745, 0.051031036307982884), (2, 0.0), (3, 0.0), (7, 0.0), (10, 0.0), (13, 0.0), (25, 0.0), (27, 0.0), (28, 0.0), (40, 0.0), (74, 0.0), (115, 0.0), (119, 0.0), (121, 0.0), (122, 0.0), (128, 0.0), (138, 0.0), (139, 0.0), (141, 0.0), (160, 0.0), (174, 0.0), (180, 0.0), (183, 0.0), (208, 0.0), (222, 0.0), (241, 0.0), (242, 0.0), (258, 0.0), (266, 0.0), (269, 0.0), (274, 0.0), (278, 0.0), (282, 0.0), (289, 0.0), (291, 0.0), (292, 0.0), (296, 0.0), (304, 0.0), (330, 0.0), (339, 0.0), (343, 0.0), (346, 0.0), (348, 0.0), (349, 0.0), (354, 0.0), (360, 0.0), (363, 0.0), (364, 0.0), (393, 0.0), (394, 0.0), (397, 0.0), (398, 0.0), (403, 0.0), (407, 0.0), (409, 0.0), (411, 0.0), (412, 0.0), (428, 0.0), (431, 0.0), (439, 0.0), (442, 0.0), (445, 0.0), (458, 0.0), (464, 0.0), (467, 0.0), (477, 0.0), (489, 0.0), (497, 0.0), (508, 0.0), (520, 0.0), (531, 0.0), (541, 0.0), (547, 0.0), (559, 0.0), (561, 0.0), (562, 0.0), (563, 0.0), (565, 0.0), (571, 0.0), (582, 0.0), (588, 0.0), (589, 0.0), (594, 0.0), (616, 0.0), (635, 0.0), (636, 0.0), (639, 0.0), (647, 0.0), (652, 0.0), (653, 0.0), (667, 0.0), (688, 0.0), (701, 0.0), (715, 0.0), (716, 0.0), (719, 0.0), (722, 0.0), (723, 0.0), (726, 0.0), (731, 0.0), (746, 0.0), (748, 0.0), (749, 0.0), (751, 0.0), (776, 0.0), (778, 0.0), (783, 0.0), (788, 0.0), (790, 0.0), (792, 0.0), (795, 0.0), (797, 0.0), (800, 0.0), (804, 0.0), (811, 0.0), (812, 0.0), (813, 0.0), (814, 0.0), (818, 0.0), (829, 0.0), (831, 0.0), (846, 0.0), (848, 0.0), (868, 0.0), (876, 0.0), (883, 0.0), (888, 0.0), (891, 0.0), (899, 0.0), (913, 0.0), (928, 0.0), (942, 0.0), (943, 0.0), (966, 0.0), (970, 0.0), (973, 0.0), (977, 0.0), (983, 0.0), (984, 0.0), (985, 0.0), (986, 0.0), (988, 0.0), (994, 0.0), (996, 0.0), (998, 0.0), (999, 0.0)]\n"
          ]
        }
      ],
      "source": [
        "#print the sorted scores\n",
        "print(sorted_scores)"
      ]
    },
    {
      "cell_type": "code",
      "execution_count": null,
      "metadata": {
        "colab": {
          "base_uri": "https://localhost:8080/"
        },
        "id": "G8vlgMlLQbhR",
        "outputId": "94d77ba0-64ca-4bee-cdde-4cbcb0f36bac"
      },
      "outputs": [
        {
          "name": "stdout",
          "output_type": "stream",
          "text": [
            "The 7 Most recommended movies to The Dark Knight are:\n",
            "\n",
            "1 The Prestige\n",
            "2 The Dark Knight Rises\n",
            "3 Public Enemies\n",
            "4 The Fighter\n",
            "5 London Has Fallen\n",
            "6 Out of the Furnace\n",
            "7 The Girl with the Dragon Tattoo\n"
          ]
        }
      ],
      "source": [
        "#create a loop to print the first 7 similar movies\n",
        "j = 0\n",
        "print('The 7 Most recommended movies to', title, 'are:\\n')\n",
        "for item in sorted_scores:\n",
        "  movie_title = df[df.Movie_id == item[0]]['Title'].values[0]\n",
        "  print(j+1, movie_title)\n",
        "  j = j+1\n",
        "  if j>6:\n",
        "    break"
      ]
    }
  ],
  "metadata": {
    "colab": {
      "provenance": []
    },
    "kernelspec": {
      "display_name": "Python 3",
      "name": "python3"
    },
    "language_info": {
      "name": "python"
    }
  },
  "nbformat": 4,
  "nbformat_minor": 0
}
